{
 "cells": [
  {
   "cell_type": "code",
   "execution_count": null,
   "id": "ca825196",
   "metadata": {},
   "outputs": [],
   "source": [
    "#pip install influxdb-client INFLUXDB PACKAGE INSTALLATION KODU\n",
    "from datetime import datetime\n",
    "\n",
    "from influxdb_client import InfluxDBClient, Point, WritePrecision\n",
    "from influxdb_client.client.write_api import SYNCHRONOUS\n",
    "from random import seed\n",
    "from random import randint\n",
    "import random\n",
    "import numpy as np\n",
    "import time\n",
    "token = \"3URoYI6t7CeZxAn64CCvXgEgW3z4wvlBve-vi35PD4KYG7B07hW7SdEDVo_aWcLRXEFgE2e3Uki4gbdzWLepAw==\"\n",
    "org = \"gatemarine\"\n",
    "bucket = \"OctopusTestBucket\"\n",
    "\n",
    "\n",
    "client = InfluxDBClient(url=\"http://65.21.107.165:8086\", token=token)\n",
    "measurement_style=1\n",
    "measurement_period=100\n",
    "last_measurementdata_ton=0;\n",
    "last_measurementdata_toff=0;\n",
    "\n",
    "while(1):\n",
    "     if(measurement_style==1):\n",
    "        \n",
    "               for _ in range(20):\n",
    "                   now=int(round(time.time() * 1000))\n",
    "                       if((now-last_measurementdata_ton)>(measuremet_period)):\n",
    "                                voltage_volt_ton = randint(0,10)*0.1 + 12\n",
    "\t                            current_volt_ton=randint(0,10)*5 + 150\n",
    "\t                            power_value_ton=voltage_volt_ton*current_volt_ton\n",
    "                                last_measurementdata_ton=now\n",
    "                        \n",
    "                \n",
    "\n",
    "\t\n",
    "        \n",
    "\t \n",
    "\t      \n",
    "\n",
    "               for _ in range(60):\n",
    "                   now1=int(round(time.time() * 1000))\n",
    "                      if(((now1-last_measurementdatatoff)>(measuremet_period))):\n",
    "\t                        voltage_volt_toff = randint(12,13)+0.1\n",
    "\t                        current_volt_toff=randint(0,10)*5+30\n",
    "\t                        power_value_toff=voltage_volt_toff*current_volt_toff\n",
    "                            last_measurementdatatoff=now1\n",
    "\n",
    "\t\n",
    "       \n",
    "       \n",
    "    elif(measurement_style==0):\n",
    "        #I2C okuması burada yapılacak\n",
    "            \n",
    "       \n",
    "\t        "
   ]
  }
 ],
 "metadata": {
  "kernelspec": {
   "display_name": "Python 3 (ipykernel)",
   "language": "python",
   "name": "python3"
  },
  "language_info": {
   "codemirror_mode": {
    "name": "ipython",
    "version": 3
   },
   "file_extension": ".py",
   "mimetype": "text/x-python",
   "name": "python",
   "nbconvert_exporter": "python",
   "pygments_lexer": "ipython3",
   "version": "3.9.7"
  }
 },
 "nbformat": 4,
 "nbformat_minor": 5
}
